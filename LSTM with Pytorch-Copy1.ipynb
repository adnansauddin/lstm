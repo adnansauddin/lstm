{
 "cells": [
  {
   "cell_type": "code",
   "execution_count": 4,
   "id": "cf366552",
   "metadata": {},
   "outputs": [],
   "source": [
    "import math # Mathematical functions \n",
    "import numpy as np # Fundamental package for scientific computing with Python\n",
    "import pandas as pd # For analysing and manipulating data\n",
    "import yfinance as yf\n",
    "import matplotlib.pyplot as plt # For visualization\n",
    "import matplotlib.dates as mdates # Formatting dates\n",
    "from sklearn.model_selection import train_test_split\n",
    "from sklearn.preprocessing import MinMaxScaler #to normalize the price data "
   ]
  },
  {
   "cell_type": "code",
   "execution_count": 5,
   "id": "98c5ab55",
   "metadata": {},
   "outputs": [
    {
     "data": {
      "text/plain": [
       "device(type='cpu')"
      ]
     },
     "execution_count": 5,
     "metadata": {},
     "output_type": "execute_result"
    }
   ],
   "source": [
    "import torch\n",
    "from torch import nn, optim\n",
    "import torch.nn as nn\n",
    "import torch.nn.functional as F\n",
    "from jcopdl.callback import Callback, set_config \n",
    "\n",
    "\n",
    "\n",
    "device = torch.device(\"cuda:0\" if torch.cuda.is_available() else \"cpu\")\n",
    "device"
   ]
  },
  {
   "cell_type": "code",
   "execution_count": 6,
   "id": "a4487839",
   "metadata": {},
   "outputs": [
    {
     "name": "stdout",
     "output_type": "stream",
     "text": [
      "[*********************100%***********************]  1 of 1 completed\n"
     ]
    },
    {
     "data": {
      "text/html": [
       "<div>\n",
       "<style scoped>\n",
       "    .dataframe tbody tr th:only-of-type {\n",
       "        vertical-align: middle;\n",
       "    }\n",
       "\n",
       "    .dataframe tbody tr th {\n",
       "        vertical-align: top;\n",
       "    }\n",
       "\n",
       "    .dataframe thead th {\n",
       "        text-align: right;\n",
       "    }\n",
       "</style>\n",
       "<table border=\"1\" class=\"dataframe\">\n",
       "  <thead>\n",
       "    <tr style=\"text-align: right;\">\n",
       "      <th></th>\n",
       "      <th>ANTM_Close</th>\n",
       "    </tr>\n",
       "    <tr>\n",
       "      <th>Date</th>\n",
       "      <th></th>\n",
       "    </tr>\n",
       "  </thead>\n",
       "  <tbody>\n",
       "    <tr>\n",
       "      <th>2005-09-29</th>\n",
       "      <td>432.588074</td>\n",
       "    </tr>\n",
       "    <tr>\n",
       "      <th>2005-09-30</th>\n",
       "      <td>457.787384</td>\n",
       "    </tr>\n",
       "    <tr>\n",
       "      <th>2005-10-03</th>\n",
       "      <td>470.387024</td>\n",
       "    </tr>\n",
       "    <tr>\n",
       "      <th>2005-10-04</th>\n",
       "      <td>474.586914</td>\n",
       "    </tr>\n",
       "    <tr>\n",
       "      <th>2005-10-05</th>\n",
       "      <td>482.986694</td>\n",
       "    </tr>\n",
       "    <tr>\n",
       "      <th>...</th>\n",
       "      <td>...</td>\n",
       "    </tr>\n",
       "    <tr>\n",
       "      <th>2022-08-04</th>\n",
       "      <td>1970.000000</td>\n",
       "    </tr>\n",
       "    <tr>\n",
       "      <th>2022-08-05</th>\n",
       "      <td>2020.000000</td>\n",
       "    </tr>\n",
       "    <tr>\n",
       "      <th>2022-08-08</th>\n",
       "      <td>2060.000000</td>\n",
       "    </tr>\n",
       "    <tr>\n",
       "      <th>2022-08-09</th>\n",
       "      <td>2180.000000</td>\n",
       "    </tr>\n",
       "    <tr>\n",
       "      <th>2022-08-10</th>\n",
       "      <td>2120.000000</td>\n",
       "    </tr>\n",
       "  </tbody>\n",
       "</table>\n",
       "<p>4176 rows × 1 columns</p>\n",
       "</div>"
      ],
      "text/plain": [
       "             ANTM_Close\n",
       "Date                   \n",
       "2005-09-29   432.588074\n",
       "2005-09-30   457.787384\n",
       "2005-10-03   470.387024\n",
       "2005-10-04   474.586914\n",
       "2005-10-05   482.986694\n",
       "...                 ...\n",
       "2022-08-04  1970.000000\n",
       "2022-08-05  2020.000000\n",
       "2022-08-08  2060.000000\n",
       "2022-08-09  2180.000000\n",
       "2022-08-10  2120.000000\n",
       "\n",
       "[4176 rows x 1 columns]"
      ]
     },
     "execution_count": 6,
     "metadata": {},
     "output_type": "execute_result"
    }
   ],
   "source": [
    "# Selecting the dataset's start & end date \n",
    "import datetime\n",
    "stocks = [\"ANTM.JK\"]\n",
    "today=datetime.date.today().strftime('%Y-%m-%d')\n",
    "start_date=pd.to_datetime('2005-9-30')\n",
    "end_date=pd.to_datetime(today)\n",
    "data_stock = yf.download(stocks, start=start_date, end=end_date)\n",
    "df = pd.DataFrame(data_stock)\n",
    "df = pd.concat([data_stock['Close']],axis=1) # Creating new dataframe containing only the 'Close' column \n",
    "df.columns = ['ANTM_Close']\n",
    "df"
   ]
  },
  {
   "cell_type": "code",
   "execution_count": 7,
   "id": "2f33cf03",
   "metadata": {},
   "outputs": [
    {
     "data": {
      "text/plain": [
       "Date\n",
       "2005-09-29     432.588074\n",
       "2005-09-30     457.787384\n",
       "2005-10-03     470.387024\n",
       "2005-10-04     474.586914\n",
       "2005-10-05     482.986694\n",
       "                 ...     \n",
       "2022-08-04    1970.000000\n",
       "2022-08-05    2020.000000\n",
       "2022-08-08    2060.000000\n",
       "2022-08-09    2180.000000\n",
       "2022-08-10    2120.000000\n",
       "Name: ANTM_Close, Length: 4176, dtype: float64"
      ]
     },
     "execution_count": 7,
     "metadata": {},
     "output_type": "execute_result"
    }
   ],
   "source": [
    "df_Transf = pd.Series(MinMaxScaler().fit_transform(df['ANTM_Close'].values.reshape(-1,1)).flatten())\n",
    "df_Transf = pd.array(df_Transf)\n",
    "df.index=pd.to_datetime(df.index)\n",
    "df['ANTM_Close']"
   ]
  },
  {
   "cell_type": "code",
   "execution_count": 39,
   "id": "4fd1ca4b",
   "metadata": {},
   "outputs": [
    {
     "data": {
      "text/plain": [
       "<PandasArray>\n",
       "[ 0.03681223000984864, 0.043183925047665925, 0.046369768708359835,\n",
       " 0.047431719167400965, 0.049555620085483226, 0.045307825965748186,\n",
       " 0.046369768708359835, 0.045307825965748186, 0.045307825965748186,\n",
       " 0.046369768708359835,\n",
       " ...\n",
       "   0.4331354100035298,  0.42175707173723737,  0.45336356692138285,\n",
       "   0.4318711501961639,  0.42554985115933486,  0.42554985115933486,\n",
       "    0.438192449232993,  0.44830652769191964,  0.47864876306869925,\n",
       "   0.4634776453803094]\n",
       "Length: 4176, dtype: float64"
      ]
     },
     "execution_count": 39,
     "metadata": {},
     "output_type": "execute_result"
    }
   ],
   "source": [
    "df_Transf"
   ]
  },
  {
   "cell_type": "code",
   "execution_count": 39,
   "id": "509c2214",
   "metadata": {},
   "outputs": [
    {
     "data": {
      "text/plain": [
       "<AxesSubplot:xlabel='Date'>"
      ]
     },
     "execution_count": 39,
     "metadata": {},
     "output_type": "execute_result"
    },
    {
     "data": {
      "image/png": "[encoded data removed]",
      "text/plain": [
       "<Figure size 1080x360 with 1 Axes>"
      ]
     },
     "metadata": {
      "needs_background": "light"
     },
     "output_type": "display_data"
    }
   ],
   "source": [
    "#df_Transf.plot(figsize=(15,5),color='b')\n",
    "df.ANTM_Close.plot(figsize=(15,5),color='c')"
   ]
  },
  {
   "cell_type": "code",
   "execution_count": 8,
   "id": "c4e914ab",
   "metadata": {},
   "outputs": [
    {
     "data": {
      "text/plain": [
       "((3340, 1), (836, 1))"
      ]
     },
     "execution_count": 8,
     "metadata": {},
     "output_type": "execute_result"
    }
   ],
   "source": [
    "#Dataset Splitting\n",
    "y_train, y_test = train_test_split(df, test_size=0.2,shuffle=False)\n",
    "y_train.shape, y_test.shape"
   ]
  },
  {
   "cell_type": "code",
   "execution_count": 9,
   "id": "06010c96",
   "metadata": {},
   "outputs": [],
   "source": [
    "#Dataset & Dataloader\n",
    "from torch.utils.data import DataLoader\n",
    "from jcopdl.utils.dataloader import TimeSeriesDataset\n",
    "\n"
   ]
  },
  {
   "cell_type": "code",
   "execution_count": 10,
   "id": "b093752a",
   "metadata": {},
   "outputs": [
    {
     "name": "stdout",
     "output_type": "stream",
     "text": [
      "(N, S, F): (238, 14, 1)\n",
      "Note: last \u001b[31m7 data excluded\u001b[0m\n",
      "\n",
      "(N, S, F): (59, 14, 1)\n",
      "Note: last \u001b[31m9 data excluded\u001b[0m\n",
      "\n"
     ]
    }
   ],
   "source": [
    "seq_len=14\n",
    "bs = 32\n",
    "\n",
    "train_set=TimeSeriesDataset(y_train, \"ANTM_Close\",seq_len)\n",
    "trainloader=DataLoader(train_set, batch_size=bs)\n",
    "\n",
    "test_set=TimeSeriesDataset(y_test, \"ANTM_Close\",seq_len)\n",
    "testloader=DataLoader(test_set, batch_size=bs)"
   ]
  },
  {
   "cell_type": "code",
   "execution_count": 13,
   "id": "0c869449",
   "metadata": {},
   "outputs": [],
   "source": [
    "#Arsitektur dan Komfigurasi\n",
    "class LSTM (nn.Module):\n",
    "    def __init__(self, input_size, output_size, hidden_size, num_layers, dropout):\n",
    "        super().__init__()\n",
    "        self.rnn = nn.LSTM(input_size, output_size, hidden_size, num_layers, dropout=dropout, batch_first=True)\n",
    "        self.fc = nn.Linear(hidden_size, output_size)\n",
    "        \n",
    "    def foward (self, x, hidden):\n",
    "        x, hidden = self.rnn(x, hidden)\n",
    "        x = self.fc(x)\n",
    "        return x, hidden                   \n",
    "          "
   ]
  },
  {
   "cell_type": "code",
   "execution_count": 34,
   "id": "53dc210f",
   "metadata": {},
   "outputs": [],
   "source": [
    "config = set_config ({\n",
    "    \"input_size\":train_set.n_feature,\n",
    "    \"seq_len\":train_set.n_seq,\n",
    "    \"output_size\":1,\n",
    "    \"hidden_size\":64,\n",
    "    \"num_layers\":3,\n",
    "    \"epoch\":25,\n",
    "    \"dropout\":0\n",
    "})"
   ]
  },
  {
   "cell_type": "code",
   "execution_count": 42,
   "id": "aa630c10",
   "metadata": {},
   "outputs": [],
   "source": [
    "#Training\n",
    "from tqdm.auto import tqdm\n",
    "\n",
    "def loop_fn(mode, dataset, dataloader, model, criterion, optimizer, device):\n",
    "    if mode == \"train\":\n",
    "        model.train()\n",
    "    elif mode == \"test\":\n",
    "        model.eval()\n",
    "    cost = 0\n",
    "    for feature, target in tqdm(dataloader, desc=mode.title()):\n",
    "        feature, target = feature.to(device), target.to(device)\n",
    "        output, hidden = model(feature, None)\n",
    "        loss = criterion(output, target)\n",
    "        \n",
    "        if mode == \"train\":\n",
    "            loss.backward()\n",
    "            optimizer.step()\n",
    "            optimizer.zero_grad()\n",
    "        \n",
    "        cost += loss.item() * feature.shape[0]\n",
    "    cost = cost/len(dataset)\n",
    "    return cost"
   ]
  },
  {
   "cell_type": "code",
   "execution_count": 36,
   "id": "235b0581",
   "metadata": {},
   "outputs": [
    {
     "ename": "NameError",
     "evalue": "name 'model' is not defined",
     "output_type": "error",
     "traceback": [
      "\u001b[1;31m---------------------------------------------------------------------------\u001b[0m",
      "\u001b[1;31mNameError\u001b[0m                                 Traceback (most recent call last)",
      "Input \u001b[1;32mIn [36]\u001b[0m, in \u001b[0;36m<cell line: 2>\u001b[1;34m()\u001b[0m\n\u001b[0;32m      1\u001b[0m \u001b[38;5;28;01mwhile\u001b[39;00m \u001b[38;5;28;01mTrue\u001b[39;00m:\n\u001b[1;32m----> 2\u001b[0m     train_cost \u001b[38;5;241m=\u001b[39m loop_fn(\u001b[38;5;124m\"\u001b[39m\u001b[38;5;124mtrain\u001b[39m\u001b[38;5;124m\"\u001b[39m, train_set, trainloader, \u001b[43mmodel\u001b[49m, criterion, optimizer, device)\n\u001b[0;32m      3\u001b[0m     \u001b[38;5;28;01mwith\u001b[39;00m torch\u001b[38;5;241m.\u001b[39mno_grad():\n\u001b[0;32m      4\u001b[0m         test_cost \u001b[38;5;241m=\u001b[39m loop_fn(\u001b[38;5;124m\"\u001b[39m\u001b[38;5;124mtest_cost\u001b[39m\u001b[38;5;124m\"\u001b[39m, test_set, trainloader, model, criterion, optimizer, device)\n",
      "\u001b[1;31mNameError\u001b[0m: name 'model' is not defined"
     ]
    }
   ],
   "source": [
    "while True:\n",
    "    train_cost = loop_fn(\"train\", train_set, trainloader, model, criterion, optimizer, device)\n",
    "    with torch.no_grad():\n",
    "        test_cost = loop_fn(\"test_cost\", test_set, trainloader, model, criterion, optimizer, device)\n",
    "        \n",
    "    #Logging\n",
    "    callback.log(train_cost, test_cost)\n",
    "\n",
    "    #cekpoint\n",
    "    callback.save_checkpoit()\n",
    "\n",
    "    #Runtime Ploting\n",
    "    callback.cost_runtime_plotting()\n",
    "\n",
    "    #Early Stoping\n",
    "    if callback.early_stopping(model, monitor=\"test_cost\"):\n",
    "        callback.plot_cost()\n",
    "        break"
   ]
  },
  {
   "cell_type": "code",
   "execution_count": null,
   "id": "35e2f562",
   "metadata": {},
   "outputs": [],
   "source": []
  }
 ],
 "metadata": {
  "kernelspec": {
   "display_name": "Python 3 (ipykernel)",
   "language": "python",
   "name": "python3"
  },
  "language_info": {
   "codemirror_mode": {
    "name": "ipython",
    "version": 3
   },
   "file_extension": ".py",
   "mimetype": "text/x-python",
   "name": "python",
   "nbconvert_exporter": "python",
   "pygments_lexer": "ipython3",
   "version": "3.9.12"
  }
 },
 "nbformat": 4,
 "nbformat_minor": 5
}
